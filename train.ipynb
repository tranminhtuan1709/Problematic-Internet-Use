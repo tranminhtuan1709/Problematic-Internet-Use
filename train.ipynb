{
 "cells": [
  {
   "cell_type": "code",
   "execution_count": null,
   "metadata": {},
   "outputs": [],
   "source": [
    "# %pip install pandas\n",
    "# %pip install numpy\n",
    "# %pip install scikit-learn"
   ]
  },
  {
   "cell_type": "code",
   "execution_count": null,
   "metadata": {},
   "outputs": [],
   "source": [
    "import pandas as pd\n",
    "import numpy as np\n",
    "import os\n",
    "from sklearn.model_selection import train_test_split\n",
    "from sklearn.ensemble import RandomForestRegressor\n",
    "from sklearn.metrics import mean_squared_error"
   ]
  },
  {
   "cell_type": "markdown",
   "metadata": {},
   "source": [
    "# Preprocessing data\n"
   ]
  },
  {
   "cell_type": "code",
   "execution_count": null,
   "metadata": {},
   "outputs": [],
   "source": [
    "df_data_dictionary = pd.read_csv(\n",
    "    \"Dataset/child-mind-institute-problematic-internet-use/data_dictionary.csv\"\n",
    ")"
   ]
  },
  {
   "cell_type": "code",
   "execution_count": null,
   "metadata": {},
   "outputs": [],
   "source": [
    "df_data_dictionary[df_data_dictionary.columns.to_list()]"
   ]
  },
  {
   "cell_type": "code",
   "execution_count": null,
   "metadata": {},
   "outputs": [],
   "source": [
    "df_raw_train_csv = pd.read_csv(\n",
    "    \"Dataset/child-mind-institute-problematic-internet-use/train.csv\"\n",
    ")\n",
    "\n",
    "df_raw_test_csv = pd.read_csv(\n",
    "    \"Dataset/child-mind-institute-problematic-internet-use/test.csv\"\n",
    ")"
   ]
  },
  {
   "cell_type": "code",
   "execution_count": null,
   "metadata": {},
   "outputs": [],
   "source": [
    "print(df_raw_train_csv.columns.to_list())\n",
    "print(df_raw_test_csv.columns.to_list())"
   ]
  },
  {
   "cell_type": "code",
   "execution_count": null,
   "metadata": {},
   "outputs": [],
   "source": [
    "def load_parquet_files(dir: str) -> pd.DataFrame:\n",
    "    \"\"\" \"\"\"\n",
    "\n",
    "    all_filename = os.listdir(path=dir)\n",
    "    all_data = []\n",
    "\n",
    "    for filename in all_filename:\n",
    "        id = filename[3:]\n",
    "        df_raw_id_parquet = pd.read_parquet(dir + \"/\" + filename + \"/part-0.parquet\")\n",
    "        df_raw_id_parquet.drop(\"step\", axis=1, inplace=True)\n",
    "        time_series_stats = df_raw_id_parquet.describe().values.flatten().tolist()\n",
    "        all_data.append([id] + time_series_stats)\n",
    "\n",
    "    df = pd.DataFrame(\n",
    "        all_data,\n",
    "        columns=[\"id\"] + [\"Stat_\" + str(i) for i in range(len(all_data[0]) - 1)],\n",
    "    )\n",
    "\n",
    "    return df"
   ]
  },
  {
   "cell_type": "code",
   "execution_count": null,
   "metadata": {},
   "outputs": [],
   "source": [
    "df_train_parquet = load_parquet_files(\n",
    "    dir=\"Dataset/child-mind-institute-problematic-internet-use/series_train.parquet\"\n",
    ")\n",
    "\n",
    "df_test_parquet = load_parquet_files(\n",
    "    dir=\"Dataset/child-mind-institute-problematic-internet-use/series_test.parquet\"\n",
    ")"
   ]
  },
  {
   "cell_type": "code",
   "execution_count": null,
   "metadata": {},
   "outputs": [],
   "source": [
    "print(df_train_parquet.shape)\n",
    "print(df_test_parquet.shape)"
   ]
  }
 ],
 "metadata": {
  "kernelspec": {
   "display_name": "Python 3",
   "language": "python",
   "name": "python3"
  },
  "language_info": {
   "codemirror_mode": {
    "name": "ipython",
    "version": 3
   },
   "file_extension": ".py",
   "mimetype": "text/x-python",
   "name": "python",
   "nbconvert_exporter": "python",
   "pygments_lexer": "ipython3",
   "version": "3.13.0"
  }
 },
 "nbformat": 4,
 "nbformat_minor": 2
}
